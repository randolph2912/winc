{
 "cells": [
  {
   "cell_type": "code",
   "execution_count": null,
   "id": "571c5bde-e6b5-4b0d-8de8-c0bd4df15f85",
   "metadata": {},
   "outputs": [],
   "source": [
    "#Import the necessary libraries:"
   ]
  },
  {
   "cell_type": "code",
   "execution_count": 48,
   "id": "09797f2c-b958-4b5b-9d39-cceaef94c2b9",
   "metadata": {},
   "outputs": [],
   "source": [
    "import pandas as pd\n",
    "import numpy as np\n",
    "from scipy.stats import pearsonr"
   ]
  },
  {
   "cell_type": "code",
   "execution_count": null,
   "id": "eaf9b7e9-5a01-4519-9919-038532b43d3f",
   "metadata": {},
   "outputs": [],
   "source": [
    "#We import pandas for data manipulation, numpy for numerical computation and scipy.stats for calculating the Pearson correlation coefficient."
   ]
  },
  {
   "cell_type": "code",
   "execution_count": 49,
   "id": "e4759192-51c0-41b1-b296-5be50d573736",
   "metadata": {},
   "outputs": [
    {
     "name": "stdout",
     "output_type": "stream",
     "text": [
      "    Entity Code  Year  Gini coefficient\n",
      "0  Albania  ALB  1996          0.270103\n",
      "1  Albania  ALB  2002          0.317390\n",
      "2  Albania  ALB  2005          0.305957\n",
      "3  Albania  ALB  2008          0.299847\n",
      "4  Albania  ALB  2012          0.289605\n"
     ]
    }
   ],
   "source": [
    "# load the gini data \n",
    "df_gini = pd.read_csv('economic-inequality-gini-index.csv', header=0)\n",
    "print(df_gini.head())"
   ]
  },
  {
   "cell_type": "code",
   "execution_count": null,
   "id": "579d7003-aa0b-4ae6-b784-e52563389e97",
   "metadata": {},
   "outputs": [],
   "source": [
    "#We read in the data file containing the Gini coefficients."
   ]
  },
  {
   "cell_type": "code",
   "execution_count": 50,
   "id": "ff34a21a-0abb-4048-853b-2bbe7c18f397",
   "metadata": {},
   "outputs": [
    {
     "name": "stdout",
     "output_type": "stream",
     "text": [
      "        Entity Code    Year  GDP per capita\n",
      "0  Afghanistan  AFG  1950.0          1156.0\n",
      "1  Afghanistan  AFG  1951.0          1170.0\n",
      "2  Afghanistan  AFG  1952.0          1189.0\n",
      "3  Afghanistan  AFG  1953.0          1240.0\n",
      "4  Afghanistan  AFG  1954.0          1245.0\n"
     ]
    }
   ],
   "source": [
    "# load the gdp data\n",
    "df_gdp = pd.read_csv('gdp-per-capita-maddison-2020.csv')\n",
    "df_gdp.drop(columns='417485-annotations', inplace=True)\n",
    "print(df_gdp.head())"
   ]
  },
  {
   "cell_type": "code",
   "execution_count": null,
   "id": "adde863b-c5a0-4dfc-9427-55d71e0e71eb",
   "metadata": {},
   "outputs": [],
   "source": [
    "#We read in the data file containing the GDP data, and then drop the 417485-annotations column, which contains no useful information."
   ]
  },
  {
   "cell_type": "code",
   "execution_count": 51,
   "id": "acd4a75c-4447-4ac3-95bc-e3c2780ae4c9",
   "metadata": {},
   "outputs": [],
   "source": [
    "# Merge the GDP and Gini data on 'Entity' and 'Year'\n",
    "left_merged = pd.merge(df_gdp, df_gini, how='left', on=['Entity', 'Year'])"
   ]
  },
  {
   "cell_type": "code",
   "execution_count": null,
   "id": "1f14a032-44f2-411c-a550-9b369e6f2216",
   "metadata": {},
   "outputs": [],
   "source": [
    "#We merge the GDP and Gini data on the 'Entity' and 'Year' columns using a left join."
   ]
  },
  {
   "cell_type": "code",
   "execution_count": 52,
   "id": "d7470a30-111d-426a-8030-9023aad052b9",
   "metadata": {},
   "outputs": [],
   "source": [
    "# Group the data by year and calculate mean GDP and Gini coefficient for each year\n",
    "grouped = left_merged.groupby('Year').mean()"
   ]
  },
  {
   "cell_type": "code",
   "execution_count": null,
   "id": "974cb66a-51a1-4bf9-a0b4-8e23c732a0e7",
   "metadata": {},
   "outputs": [],
   "source": [
    "#We group the data by year and calculate the mean GDP and Gini coefficient for each year."
   ]
  },
  {
   "cell_type": "code",
   "execution_count": 53,
   "id": "abf0afe8-da97-4af7-a994-858c8f944ad5",
   "metadata": {},
   "outputs": [
    {
     "name": "stdout",
     "output_type": "stream",
     "text": [
      "Correlation coefficient: -0.12, p-value: 0.40\n"
     ]
    }
   ],
   "source": [
    "# Calculate the Pearson correlation coefficient, dropping any rows with missing data\n",
    "data = grouped[['GDP per capita', 'Gini coefficient']].dropna()\n",
    "corr, pval = pearsonr(data['GDP per capita'].values, data['Gini coefficient'].values)\n",
    "print(f\"Correlation coefficient: {corr:.2f}, p-value: {pval:.2f}\")"
   ]
  },
  {
   "cell_type": "code",
   "execution_count": null,
   "id": "f266a198-020c-49bd-9044-8fa7354658e7",
   "metadata": {},
   "outputs": [],
   "source": [
    "#We calculate the Pearson correlation coefficient between the GDP per capita and the Gini coefficient, dropping any rows with missing data. \n",
    "#The correlation coefficient is then printed to the console."
   ]
  },
  {
   "cell_type": "code",
   "execution_count": null,
   "id": "1f662f03-be87-4bd4-ae13-8bcbd5a95a3a",
   "metadata": {},
   "outputs": [],
   "source": [
    "#Is there a relation between a country's Gross Domestrict Product (GDP) and its income inequality?"
   ]
  },
  {
   "cell_type": "code",
   "execution_count": null,
   "id": "618561cf-71dd-4e5b-8a6c-18648c7c23a5",
   "metadata": {},
   "outputs": [],
   "source": [
    "# we can see that a Pearson correlation coefficient has been calculated between a country's GDP per capita and its Gini coefficient,\n",
    "# which is a measure of income inequality.\n",
    "# The correlation coefficient measures the strength and direction of the linear relationship between two variables, with values ranging from -1 to 1.\n",
    "# A positive correlation coefficient indicates a positive relationship between the two variables, meaning that as GDP per capita increases,\n",
    "# so does the Gini coefficient, and vice versa. A negative correlation coefficient indicates a negative relationship,\n",
    "# meaning that as GDP per capita increases, the Gini coefficient decreases, and vice versa.\n",
    "\n",
    "# However, it is important to note that correlation does not imply causation,\n",
    "# and there could be other factors influencing the relationship between GDP per capita and the Gini coefficient,\n",
    "# such as political and social policies, economic systems, and cultural factors.\n",
    "# Therefore, we should be cautious in interpreting the results and avoid making causal claims based solely on the correlation coefficient."
   ]
  }
 ],
 "metadata": {
  "kernelspec": {
   "display_name": "Python 3 (ipykernel)",
   "language": "python",
   "name": "python3"
  },
  "language_info": {
   "codemirror_mode": {
    "name": "ipython",
    "version": 3
   },
   "file_extension": ".py",
   "mimetype": "text/x-python",
   "name": "python",
   "nbconvert_exporter": "python",
   "pygments_lexer": "ipython3",
   "version": "3.9.13"
  }
 },
 "nbformat": 4,
 "nbformat_minor": 5
}
